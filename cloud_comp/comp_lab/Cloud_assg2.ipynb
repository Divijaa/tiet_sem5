{
 "cells": [
  {
   "cell_type": "code",
   "execution_count": 2,
   "id": "3e285d09",
   "metadata": {},
   "outputs": [
    {
     "name": "stdout",
     "output_type": "stream",
     "text": [
      "a\n",
      "yes\n"
     ]
    }
   ],
   "source": [
    "def check(vol):\n",
    "    if( vol == 'a' or vol =='e' or vol == 'i' or vol == 'o' or vol == 'u' ):\n",
    "        print('yes')\n",
    "    else:\n",
    "        print('no')\n",
    "        \n",
    "check(input())\n",
    "    "
   ]
  },
  {
   "cell_type": "code",
   "execution_count": 8,
   "id": "32169393",
   "metadata": {},
   "outputs": [
    {
     "name": "stdout",
     "output_type": "stream",
     "text": [
      "\n",
      "Differenct of color_list_1 and color_list_2:\n",
      "{'White', 'Black'}\n"
     ]
    }
   ],
   "source": [
    "color_list_1 = set([\"White\", \"Black\", \"Red\"])\n",
    "color_list_2 = set([\"Red\", \"Green\"])\n",
    "\n",
    "print(\"\\nDifferenct of color_list_1 and color_list_2:\")\n",
    "print(color_list_1 - color_list_2)\n"
   ]
  },
  {
   "cell_type": "code",
   "execution_count": 9,
   "id": "36fc1663",
   "metadata": {},
   "outputs": [
    {
     "name": "stdout",
     "output_type": "stream",
     "text": [
      "2\n",
      "4\n",
      "36\n"
     ]
    }
   ],
   "source": [
    "def sol(x , y):\n",
    "    print((x+y)*(x+y))\n",
    "sol(int(input()), int(input()))"
   ]
  },
  {
   "cell_type": "code",
   "execution_count": 17,
   "id": "02d657f2",
   "metadata": {},
   "outputs": [
    {
     "name": "stdout",
     "output_type": "stream",
     "text": [
      "45\n",
      "9\n"
     ]
    }
   ],
   "source": [
    "def getSum(n):\n",
    "    \n",
    "    sum = 0\n",
    "    while (n != 0):\n",
    "        sum = sum + (n % 10)\n",
    "        n = n//10\n",
    "    return sum\n",
    "   \n",
    "n = int(input())\n",
    "print(getSum(n))"
   ]
  },
  {
   "cell_type": "code",
   "execution_count": 20,
   "id": "3db784a3",
   "metadata": {},
   "outputs": [
    {
     "name": "stdout",
     "output_type": "stream",
     "text": [
      "rishi malik\n"
     ]
    },
    {
     "data": {
      "text/plain": [
       "11"
      ]
     },
     "execution_count": 20,
     "metadata": {},
     "output_type": "execute_result"
    }
   ],
   "source": [
    "def count_l(s):\n",
    "    count = 0\n",
    "    for i in s:\n",
    "        count = count+1\n",
    "    return count\n",
    "count_l(input())\n"
   ]
  },
  {
   "cell_type": "code",
   "execution_count": null,
   "id": "7665181a",
   "metadata": {},
   "outputs": [],
   "source": [
    "def swap(s1 , s2):\n",
    "    \n",
    "    new_s1 = s2[:2] + s1[2:]\n",
    "    new_s2 = s1[:2] + s2[2:]\n",
    "    return new_s1 + ' ' + new_s2\n",
    "\n",
    "print(swap('abc', 'xyz'))"
   ]
  },
  {
   "cell_type": "code",
   "execution_count": 33,
   "id": "172f9eab",
   "metadata": {},
   "outputs": [
    {
     "name": "stdout",
     "output_type": "stream",
     "text": [
      "3\n",
      "diivija\n"
     ]
    },
    {
     "data": {
      "text/plain": [
       "'diiija'"
      ]
     },
     "execution_count": 33,
     "metadata": {},
     "output_type": "execute_result"
    }
   ],
   "source": [
    "def rem(s1 , n):\n",
    "    ans = ''\n",
    "    for i in range(0 , len(s1)):\n",
    "        if(i != n):\n",
    "            ans+=s1[i]     \n",
    "    return ans\n",
    "n = int(input())\n",
    "s1 = input()\n",
    "rem(s1 , n)\n",
    "        \n",
    "    "
   ]
  },
  {
   "cell_type": "code",
   "execution_count": 35,
   "id": "19321ac0",
   "metadata": {},
   "outputs": [
    {
     "name": "stdout",
     "output_type": "stream",
     "text": [
      "divija\n",
      "DIVIJA\n",
      "divija\n"
     ]
    }
   ],
   "source": [
    "s=input()\n",
    "print(s.upper())\n",
    "print(s.lower())"
   ]
  },
  {
   "cell_type": "code",
   "execution_count": 36,
   "id": "b0eb8a3c",
   "metadata": {},
   "outputs": [
    {
     "name": "stdout",
     "output_type": "stream",
     "text": [
      "\n",
      "Original Number:  3.1415926\n",
      "Formatted Number with sign: +3.14\n",
      "Original Number:  -12.9999\n",
      "Formatted Number with sign: -13.00\n",
      "\n"
     ]
    }
   ],
   "source": [
    "x = 3.1415926\n",
    "y = -12.9999\n",
    "print(\"\\nOriginal Number: \", x)\n",
    "print(\"Formatted Number with sign: \"+\"{:+.2f}\".format(x));\n",
    "print(\"Original Number: \", y)\n",
    "print(\"Formatted Number with sign: \"+\"{:+.2f}\".format(y));\n",
    "print()"
   ]
  },
  {
   "cell_type": "code",
   "execution_count": null,
   "id": "e4bd6e5f",
   "metadata": {},
   "outputs": [],
   "source": []
  }
 ],
 "metadata": {
  "kernelspec": {
   "display_name": "Python 3",
   "language": "python",
   "name": "python3"
  },
  "language_info": {
   "codemirror_mode": {
    "name": "ipython",
    "version": 3
   },
   "file_extension": ".py",
   "mimetype": "text/x-python",
   "name": "python",
   "nbconvert_exporter": "python",
   "pygments_lexer": "ipython3",
   "version": "3.8.8"
  }
 },
 "nbformat": 4,
 "nbformat_minor": 5
}
