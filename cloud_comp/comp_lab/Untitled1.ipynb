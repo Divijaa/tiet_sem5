{
 "cells": [
  {
   "cell_type": "code",
   "execution_count": 3,
   "id": "64f70c0c",
   "metadata": {},
   "outputs": [
    {
     "name": "stdout",
     "output_type": "stream",
     "text": [
      "('hello world', True, 5.2, 1)\n"
     ]
    }
   ],
   "source": [
    "#Create a tuple with different data types\n",
    "tuplex = (\"hello world\", True, 5.2, 1)\n",
    "print(tuplex)\n"
   ]
  },
  {
   "cell_type": "code",
   "execution_count": 5,
   "id": "a9f23da4",
   "metadata": {},
   "outputs": [
    {
     "name": "stdout",
     "output_type": "stream",
     "text": [
      "('hello world', True, 5.2, 1)\n",
      "('hello world', True, 5.2, 1, 30)\n"
     ]
    }
   ],
   "source": [
    "tuplex = (\"hello world\", True, 5.2, 1)\n",
    "print(tuplex)\n",
    "\n",
    "listx = list(tuplex) \n",
    "\n",
    "listx.append(30)\n",
    "tuplex = tuple(listx)\n",
    "\n",
    "print(tuplex)"
   ]
  },
  {
   "cell_type": "code",
   "execution_count": 6,
   "id": "43bc0bf2",
   "metadata": {},
   "outputs": [
    {
     "name": "stdout",
     "output_type": "stream",
     "text": [
      "geeks\n"
     ]
    }
   ],
   "source": [
    "def convertTuple(tup):\n",
    "        # initialize an empty string\n",
    "    str = ''\n",
    "    for item in tup:\n",
    "        str = str + item\n",
    "    return str\n",
    " \n",
    " \n",
    "# Driver code\n",
    "tuple = ('g', 'e', 'e', 'k', 's')\n",
    "str = convertTuple(tuple)\n",
    "print(str)"
   ]
  },
  {
   "cell_type": "code",
   "execution_count": null,
   "id": "44e4bff3",
   "metadata": {},
   "outputs": [],
   "source": []
  }
 ],
 "metadata": {
  "kernelspec": {
   "display_name": "Python 3",
   "language": "python",
   "name": "python3"
  },
  "language_info": {
   "codemirror_mode": {
    "name": "ipython",
    "version": 3
   },
   "file_extension": ".py",
   "mimetype": "text/x-python",
   "name": "python",
   "nbconvert_exporter": "python",
   "pygments_lexer": "ipython3",
   "version": "3.8.8"
  }
 },
 "nbformat": 4,
 "nbformat_minor": 5
}
