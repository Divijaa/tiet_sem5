{
 "cells": [
  {
   "cell_type": "code",
   "execution_count": 4,
   "id": "162afdc5",
   "metadata": {},
   "outputs": [
    {
     "name": "stdout",
     "output_type": "stream",
     "text": [
      "2\n",
      "3\n"
     ]
    }
   ],
   "source": [
    "def list_count_4(nums):\n",
    "    count = 0  \n",
    "    for num in nums:\n",
    "        \n",
    "        if num == 4:\n",
    "            count = count + 1\n",
    "\n",
    "    return count\n",
    "    \n",
    " \n",
    "print(list_count_4([1, 4, 6, 7, 4]))\n",
    "print(list_count_4([1, 4, 6, 4, 7, 4]))"
   ]
  },
  {
   "cell_type": "code",
   "execution_count": 8,
   "id": "76947d9e",
   "metadata": {},
   "outputs": [
    {
     "name": "stdout",
     "output_type": "stream",
     "text": [
      "5\n",
      "odd\n"
     ]
    }
   ],
   "source": [
    "def eve_odd(num):\n",
    "    if(num % 2 == 0):\n",
    "        print(\"even\")\n",
    "    else:\n",
    "        print(\"odd\")\n",
    "        \n",
    "n = int(input())\n",
    "eve_odd(n)\n",
    "        "
   ]
  },
  {
   "cell_type": "code",
   "execution_count": 12,
   "id": "381a72dd",
   "metadata": {},
   "outputs": [
    {
     "name": "stdout",
     "output_type": "stream",
     "text": [
      "800\n",
      "number not found\n"
     ]
    }
   ],
   "source": [
    "def num_find(num):\n",
    "    if(num>900 and num <1100 or num> 1900 and num < 2100):\n",
    "        print(\"yes the number is in range\")\n",
    "    else:\n",
    "        print(\"number not found\")\n",
    "        \n",
    "n = int(input())\n",
    "num_find(n)\n",
    "        "
   ]
  },
  {
   "cell_type": "code",
   "execution_count": 13,
   "id": "98b09e2a",
   "metadata": {},
   "outputs": [
    {
     "name": "stdout",
     "output_type": "stream",
     "text": [
      "7\n",
      "861\n"
     ]
    }
   ],
   "source": [
    "n = int(input())\n",
    "ten = n*10 + n\n",
    "hun = n*100 + ten\n",
    "ans = n + ten +hun\n",
    "print(ans)"
   ]
  },
  {
   "cell_type": "code",
   "execution_count": 17,
   "id": "cdf7787c",
   "metadata": {},
   "outputs": [
    {
     "name": "stdout",
     "output_type": "stream",
     "text": [
      "3\n",
      "red\n",
      "blue\n",
      "green\n",
      "the first and last colour is\n",
      "red\n",
      "green\n"
     ]
    }
   ],
   "source": [
    "n= int(input())\n",
    "col =[]\n",
    "for i in range(n):\n",
    "    col.append(input())\n",
    "    \n",
    "print('the first and last colour is')\n",
    "print(col[0])\n",
    "print(col[n-1])\n",
    "    \n",
    "    "
   ]
  },
  {
   "cell_type": "code",
   "execution_count": 20,
   "id": "83550975",
   "metadata": {},
   "outputs": [
    {
     "name": "stdout",
     "output_type": "stream",
     "text": [
      "hello.txt\n",
      "Extension of the file is : txt\n"
     ]
    }
   ],
   "source": [
    "n = input()\n",
    "f = n.split(\".\")\n",
    "\n",
    "print (\"Extension of the file is : \" + f[-1])\n",
    "    "
   ]
  },
  {
   "cell_type": "code",
   "execution_count": null,
   "id": "6d9ad451",
   "metadata": {},
   "outputs": [],
   "source": [
    "fn = input(\"enter first name\")\n",
    "ln = input(\"enter last name\")\n",
    "\n",
    "print(ln,fn)\n",
    "    "
   ]
  },
  {
   "cell_type": "code",
   "execution_count": null,
   "id": "508ced4b",
   "metadata": {},
   "outputs": [],
   "source": [
    "n = int(input(\"enter the radius\"))\n",
    "area = 3.17 * n * n\n",
    "print(area)\n"
   ]
  },
  {
   "cell_type": "code",
   "execution_count": null,
   "id": "4bf9982d",
   "metadata": {},
   "outputs": [],
   "source": [
    "import datetime\n",
    "now = datetime.datetime.now()\n",
    "print (\"Current date and time : \")\n",
    "print (now.strftime(\"%Y-%m-%d %H:%M:%S\"))"
   ]
  },
  {
   "cell_type": "code",
   "execution_count": null,
   "id": "63cbebed",
   "metadata": {},
   "outputs": [],
   "source": [
    "print(\"Twinkle,twinkle little star,\")\n",
    "print(\"How I wonder what you are!\")\n",
    "print(\"Up above the world so high,\")\n",
    "print(\"Like a diamond in the sky\")\n",
    "print(\"Twinkle,twinkle little star,\")"
   ]
  },
  {
   "cell_type": "code",
   "execution_count": null,
   "id": "b4ead24a",
   "metadata": {},
   "outputs": [],
   "source": []
  },
  {
   "cell_type": "code",
   "execution_count": null,
   "id": "4b9b2c8d",
   "metadata": {},
   "outputs": [],
   "source": []
  }
 ],
 "metadata": {
  "kernelspec": {
   "display_name": "Python 3",
   "language": "python",
   "name": "python3"
  },
  "language_info": {
   "codemirror_mode": {
    "name": "ipython",
    "version": 3
   },
   "file_extension": ".py",
   "mimetype": "text/x-python",
   "name": "python",
   "nbconvert_exporter": "python",
   "pygments_lexer": "ipython3",
   "version": "3.8.8"
  }
 },
 "nbformat": 4,
 "nbformat_minor": 5
}
